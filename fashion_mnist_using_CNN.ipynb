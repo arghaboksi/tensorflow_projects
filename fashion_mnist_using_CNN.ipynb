{
  "nbformat": 4,
  "nbformat_minor": 0,
  "metadata": {
    "colab": {
      "name": "fashion-mnist-using-CNN.ipynb",
      "provenance": [],
      "authorship_tag": "ABX9TyOa+haba05HcZwdn5SlUmZy"
    },
    "kernelspec": {
      "name": "python3",
      "display_name": "Python 3"
    }
  },
  "cells": [
    {
      "cell_type": "code",
      "metadata": {
        "id": "JpUSQ4nyVY95"
      },
      "source": [
        "import tensorflow as tf\r\n",
        "from tensorflow import keras\r\n",
        "import numpy as np\r\n",
        "import matplotlib.pyplot as plt"
      ],
      "execution_count": 22,
      "outputs": []
    },
    {
      "cell_type": "code",
      "metadata": {
        "id": "QogbHW9LV8Y8"
      },
      "source": [
        "#dataset\r\n",
        "fmnist = keras.datasets.fashion_mnist\r\n",
        "#preparing the training set and test set\r\n",
        "(training_images, training_labels), (test_images, test_labels) = fmnist.load_data()"
      ],
      "execution_count": 23,
      "outputs": []
    },
    {
      "cell_type": "code",
      "metadata": {
        "colab": {
          "base_uri": "https://localhost:8080/"
        },
        "id": "oZm8M5m-X4QK",
        "outputId": "8384022e-5617-46d0-e11b-e821e5b2dbf3"
      },
      "source": [
        "#shape of training set and test set\r\n",
        "print(\"training_images shape : \", np.shape(training_images))\r\n",
        "print(\"training_labels shape : \", np.shape(training_labels))\r\n",
        "print(\"test_images shape : \", np.shape(test_images))\r\n",
        "print(\"test_labels shape : \", np.shape(test_labels))"
      ],
      "execution_count": 24,
      "outputs": [
        {
          "output_type": "stream",
          "text": [
            "training_images shape :  (60000, 28, 28)\n",
            "training_labels shape :  (60000,)\n",
            "test_images shape :  (10000, 28, 28)\n",
            "test_labels shape :  (10000,)\n"
          ],
          "name": "stdout"
        }
      ]
    },
    {
      "cell_type": "code",
      "metadata": {
        "id": "rM2iiD2Iahbv"
      },
      "source": [
        "#input to the first conv layer - a greyscale (28,28,1) image\r\n",
        "training_images = np.reshape(training_images, (60000, 28, 28, 1))\r\n",
        "test_images = np.reshape(test_images, (10000, 28, 28, 1))"
      ],
      "execution_count": 25,
      "outputs": []
    },
    {
      "cell_type": "code",
      "metadata": {
        "id": "9Kc1JfaOZGu-"
      },
      "source": [
        "#normalizing the data\r\n",
        "training_images = training_images/255\r\n",
        "test_images = test_images/255"
      ],
      "execution_count": 26,
      "outputs": []
    },
    {
      "cell_type": "code",
      "metadata": {
        "id": "HCNNt-LneR7k"
      },
      "source": [
        "#Model : conv->pool->conv->pool->flatten->FC(ReLU)->FC(Softmax)\r\n",
        "model = keras.models.Sequential([\r\n",
        "                                 keras.layers.Conv2D(64, (3,3), activation='relu', input_shape=(28,28,1)),\r\n",
        "                                 keras.layers.MaxPool2D(pool_size=(2,2), strides=2),\r\n",
        "                                 keras.layers.Conv2D(filters=64, kernel_size=(3,3), activation='relu'),\r\n",
        "                                 keras.layers.MaxPool2D(pool_size=(2,2), strides=2),\r\n",
        "                                 keras.layers.Flatten(),\r\n",
        "                                 keras.layers.Dense(128, activation='relu'),\r\n",
        "                                 keras.layers.Dense(10, activation='softmax')\r\n",
        "])"
      ],
      "execution_count": 27,
      "outputs": []
    },
    {
      "cell_type": "code",
      "metadata": {
        "id": "Dy1lFuBweVbE"
      },
      "source": [
        "#optimizer : Adam, loss-function : cross entropy loss\r\n",
        "model.compile(optimizer='adam', loss='sparse_categorical_crossentropy', metrics=['accuracy'])"
      ],
      "execution_count": 28,
      "outputs": []
    },
    {
      "cell_type": "code",
      "metadata": {
        "colab": {
          "base_uri": "https://localhost:8080/"
        },
        "id": "aIRZaNvjjLl5",
        "outputId": "1d9880f8-bb04-4ff5-bc84-ab1b525a262f"
      },
      "source": [
        "model.summary()"
      ],
      "execution_count": 29,
      "outputs": [
        {
          "output_type": "stream",
          "text": [
            "Model: \"sequential_1\"\n",
            "_________________________________________________________________\n",
            "Layer (type)                 Output Shape              Param #   \n",
            "=================================================================\n",
            "conv2d_2 (Conv2D)            (None, 26, 26, 64)        640       \n",
            "_________________________________________________________________\n",
            "max_pooling2d_2 (MaxPooling2 (None, 13, 13, 64)        0         \n",
            "_________________________________________________________________\n",
            "conv2d_3 (Conv2D)            (None, 11, 11, 64)        36928     \n",
            "_________________________________________________________________\n",
            "max_pooling2d_3 (MaxPooling2 (None, 5, 5, 64)          0         \n",
            "_________________________________________________________________\n",
            "flatten_1 (Flatten)          (None, 1600)              0         \n",
            "_________________________________________________________________\n",
            "dense_2 (Dense)              (None, 128)               204928    \n",
            "_________________________________________________________________\n",
            "dense_3 (Dense)              (None, 10)                1290      \n",
            "=================================================================\n",
            "Total params: 243,786\n",
            "Trainable params: 243,786\n",
            "Non-trainable params: 0\n",
            "_________________________________________________________________\n"
          ],
          "name": "stdout"
        }
      ]
    },
    {
      "cell_type": "code",
      "metadata": {
        "id": "E11dl7u4ntij"
      },
      "source": [
        "#code that stops training once the model reaches desired performance\r\n",
        "class myCallback(keras.callbacks.Callback):\r\n",
        "  def on_epoch_end(self, epoch, logs={}):\r\n",
        "    if(logs.get('accuracy')>0.95):\r\n",
        "      print(\"\\nReached desired performance, so cancelling training!\")\r\n",
        "      self.model.stop_training = True\r\n",
        "\r\n",
        "callbacks = myCallback()"
      ],
      "execution_count": 31,
      "outputs": []
    },
    {
      "cell_type": "code",
      "metadata": {
        "colab": {
          "base_uri": "https://localhost:8080/"
        },
        "id": "e8qVQYbmjRKo",
        "outputId": "0762b4d6-197c-4b5c-a6e3-d43ffd40f9b0"
      },
      "source": [
        "#training the network\r\n",
        "model.fit(training_images, training_labels, epochs=5, callbacks=[callbacks])"
      ],
      "execution_count": 32,
      "outputs": [
        {
          "output_type": "stream",
          "text": [
            "Epoch 1/5\n",
            "1875/1875 [==============================] - 81s 43ms/step - loss: 0.5954 - accuracy: 0.7801\n",
            "Epoch 2/5\n",
            "1875/1875 [==============================] - 79s 42ms/step - loss: 0.3067 - accuracy: 0.8891\n",
            "Epoch 3/5\n",
            "1875/1875 [==============================] - 79s 42ms/step - loss: 0.2458 - accuracy: 0.9079\n",
            "Epoch 4/5\n",
            "1875/1875 [==============================] - 79s 42ms/step - loss: 0.2170 - accuracy: 0.9212\n",
            "Epoch 5/5\n",
            "1875/1875 [==============================] - 79s 42ms/step - loss: 0.1866 - accuracy: 0.9307\n"
          ],
          "name": "stdout"
        },
        {
          "output_type": "execute_result",
          "data": {
            "text/plain": [
              "<tensorflow.python.keras.callbacks.History at 0x7ff7b404f668>"
            ]
          },
          "metadata": {
            "tags": []
          },
          "execution_count": 32
        }
      ]
    },
    {
      "cell_type": "code",
      "metadata": {
        "colab": {
          "base_uri": "https://localhost:8080/"
        },
        "id": "24kBm4BEj0Zs",
        "outputId": "b99fbcab-d4a6-4c56-b829-a1b1fc1a9052"
      },
      "source": [
        "#performance on the test set\r\n",
        "model.evaluate(test_images, test_labels)"
      ],
      "execution_count": 33,
      "outputs": [
        {
          "output_type": "stream",
          "text": [
            "313/313 [==============================] - 4s 13ms/step - loss: 0.2626 - accuracy: 0.9094\n"
          ],
          "name": "stdout"
        },
        {
          "output_type": "execute_result",
          "data": {
            "text/plain": [
              "[0.2626011073589325, 0.9093999862670898]"
            ]
          },
          "metadata": {
            "tags": []
          },
          "execution_count": 33
        }
      ]
    }
  ]
}