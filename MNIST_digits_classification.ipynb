{
  "nbformat": 4,
  "nbformat_minor": 0,
  "metadata": {
    "colab": {
      "name": "MNIST digits classification.ipynb",
      "provenance": [],
      "authorship_tag": "ABX9TyOuushcpqwHpL6wuKMjtRUO"
    },
    "kernelspec": {
      "name": "python3",
      "display_name": "Python 3"
    }
  },
  "cells": [
    {
      "cell_type": "code",
      "metadata": {
        "id": "bWS28Bq7mcWG"
      },
      "source": [
        "import tensorflow as tf\r\n",
        "from tensorflow import keras\r\n",
        "import numpy as np\r\n",
        "import matplotlib.pyplot as plt"
      ],
      "execution_count": 2,
      "outputs": []
    },
    {
      "cell_type": "code",
      "metadata": {
        "id": "ZcqUSVNUpXh4"
      },
      "source": [
        "#Loading the MNIST dataset\r\n",
        "mnist = keras.datasets.mnist"
      ],
      "execution_count": 3,
      "outputs": []
    },
    {
      "cell_type": "code",
      "metadata": {
        "colab": {
          "base_uri": "https://localhost:8080/"
        },
        "id": "Hx4n6FldqSnW",
        "outputId": "34ba1619-6485-4090-fff2-2375e3bf286b"
      },
      "source": [
        "#Training Set and Test Set\r\n",
        "(training_images, training_labels), (test_images, test_labels) = mnist.load_data(path='mnist.npz')"
      ],
      "execution_count": 4,
      "outputs": [
        {
          "output_type": "stream",
          "text": [
            "Downloading data from https://storage.googleapis.com/tensorflow/tf-keras-datasets/mnist.npz\n",
            "11493376/11490434 [==============================] - 0s 0us/step\n"
          ],
          "name": "stdout"
        }
      ]
    },
    {
      "cell_type": "code",
      "metadata": {
        "colab": {
          "base_uri": "https://localhost:8080/"
        },
        "id": "uMmDddltq2pG",
        "outputId": "a19a6f62-dd4a-416a-caf4-f9d1d8329267"
      },
      "source": [
        "print(training_images.shape)   #60k 28x28 grayscale images\r\n",
        "print(training_labels.shape)\r\n",
        "print(test_images.shape)       #10k 28x28 grayscale images\r\n",
        "print(test_labels.shape)"
      ],
      "execution_count": 6,
      "outputs": [
        {
          "output_type": "stream",
          "text": [
            "(60000, 28, 28)\n",
            "(60000,)\n",
            "(10000, 28, 28)\n",
            "(10000,)\n"
          ],
          "name": "stdout"
        }
      ]
    },
    {
      "cell_type": "code",
      "metadata": {
        "colab": {
          "base_uri": "https://localhost:8080/",
          "height": 282
        },
        "id": "AK7nD8rHrKFa",
        "outputId": "84764f92-ccb0-4b02-8700-86151a0d51ca"
      },
      "source": [
        "plt.imshow(training_images[35])\r\n",
        "#print(training_images[35])\r\n",
        "print(training_labels[35])"
      ],
      "execution_count": 8,
      "outputs": [
        {
          "output_type": "stream",
          "text": [
            "5\n"
          ],
          "name": "stdout"
        },
        {
          "output_type": "display_data",
          "data": {
            "image/png": "[encoded data removed]",
            "text/plain": [
              "<Figure size 432x288 with 1 Axes>"
            ]
          },
          "metadata": {
            "tags": [],
            "needs_background": "light"
          }
        }
      ]
    },
    {
      "cell_type": "code",
      "metadata": {
        "id": "fuVA2DfOr2ff"
      },
      "source": [
        "#normalization of the training_set and test_set\r\n",
        "training_images = training_images/255\r\n",
        "test_images = test_images/255"
      ],
      "execution_count": 9,
      "outputs": []
    },
    {
      "cell_type": "code",
      "metadata": {
        "id": "D3NGHmEHsMsJ"
      },
      "source": [
        "#model structure: Linear->ReLU ->Linear->Softmax\r\n",
        "model = keras.models.Sequential([keras.layers.Flatten(),\r\n",
        "                                 keras.layers.Dense(units=512, activation=tf.nn.relu),\r\n",
        "                                 keras.layers.Dense(units=10, activation=tf.nn.softmax)])"
      ],
      "execution_count": 10,
      "outputs": []
    },
    {
      "cell_type": "code",
      "metadata": {
        "id": "p00g7x4WuDkK"
      },
      "source": [
        "#Loss Function : Cross-Entropy Loss, Optimization Strategy : Adam\r\n",
        "model.compile(optimizer=tf.optimizers.Adam(), \r\n",
        "              loss=\"sparse_categorical_crossentropy\",\r\n",
        "              metrics=['accuracy'])"
      ],
      "execution_count": 11,
      "outputs": []
    },
    {
      "cell_type": "code",
      "metadata": {
        "id": "-JqebR21vHMT"
      },
      "source": [
        "#code that stops training once the model reaches desired performance\r\n",
        "accuracy_threshold = 0.99               #desired accuracy   \r\n",
        "class myCallback(keras.callbacks.Callback):\r\n",
        "  def on_epoch_end(self, epoch, logs={}):\r\n",
        "    if(logs.get('accuracy')>=accuracy_threshold):\r\n",
        "      print(\"\\nReached desired performance, so cancelling training!\")\r\n",
        "      self.model.stop_training = True\r\n",
        "\r\n",
        "callbacks = myCallback()"
      ],
      "execution_count": 14,
      "outputs": []
    },
    {
      "cell_type": "code",
      "metadata": {
        "colab": {
          "base_uri": "https://localhost:8080/"
        },
        "id": "gR0JFJZQwHtm",
        "outputId": "d86d29e4-f2f7-4d70-fa8a-94810deb68ae"
      },
      "source": [
        "#Training the model\r\n",
        "model.fit(training_images, training_labels, epochs=10, callbacks=[callbacks])"
      ],
      "execution_count": 15,
      "outputs": [
        {
          "output_type": "stream",
          "text": [
            "Epoch 1/10\n",
            "1875/1875 [==============================] - 6s 3ms/step - loss: 0.0820 - accuracy: 0.9749\n",
            "Epoch 2/10\n",
            "1875/1875 [==============================] - 6s 3ms/step - loss: 0.0522 - accuracy: 0.9837\n",
            "Epoch 3/10\n",
            "1875/1875 [==============================] - 6s 3ms/step - loss: 0.0372 - accuracy: 0.9883\n",
            "Epoch 4/10\n",
            "1875/1875 [==============================] - 6s 3ms/step - loss: 0.0282 - accuracy: 0.9912\n",
            "\n",
            "Reached desired performance, so cancelling training!\n"
          ],
          "name": "stdout"
        },
        {
          "output_type": "execute_result",
          "data": {
            "text/plain": [
              "<tensorflow.python.keras.callbacks.History at 0x7f4aa3198668>"
            ]
          },
          "metadata": {
            "tags": []
          },
          "execution_count": 15
        }
      ]
    },
    {
      "cell_type": "code",
      "metadata": {
        "colab": {
          "base_uri": "https://localhost:8080/"
        },
        "id": "O0t-wNYQwVzr",
        "outputId": "d39e1813-ef27-44aa-eee9-7be41f188403"
      },
      "source": [
        "#test_set performance\r\n",
        "model.evaluate(test_images, test_labels)"
      ],
      "execution_count": 16,
      "outputs": [
        {
          "output_type": "stream",
          "text": [
            "313/313 [==============================] - 1s 2ms/step - loss: 0.0668 - accuracy: 0.9802\n"
          ],
          "name": "stdout"
        },
        {
          "output_type": "execute_result",
          "data": {
            "text/plain": [
              "[0.06678398698568344, 0.9801999926567078]"
            ]
          },
          "metadata": {
            "tags": []
          },
          "execution_count": 16
        }
      ]
    },
    {
      "cell_type": "code",
      "metadata": {
        "id": "9dQRWfwXxCwj"
      },
      "source": [
        "#model predictions\r\n",
        "predictions = model.predict(test_images)"
      ],
      "execution_count": 19,
      "outputs": []
    },
    {
      "cell_type": "code",
      "metadata": {
        "colab": {
          "base_uri": "https://localhost:8080/"
        },
        "id": "deCwerAex1UT",
        "outputId": "fdab6022-24f4-4f42-ac18-0b36363f56eb"
      },
      "source": [
        "random_test_image = 5\r\n",
        "print(predictions[random_test_image])\r\n",
        "print(np.argmax(predictions[random_test_image]))"
      ],
      "execution_count": 21,
      "outputs": [
        {
          "output_type": "stream",
          "text": [
            "[2.7990521e-10 9.9984407e-01 4.1877235e-09 7.2934164e-10 5.5527476e-06\n",
            " 4.1540466e-10 1.3361786e-09 1.4524798e-04 4.9956884e-06 1.4129996e-08]\n",
            "1\n"
          ],
          "name": "stdout"
        }
      ]
    },
    {
      "cell_type": "code",
      "metadata": {
        "colab": {
          "base_uri": "https://localhost:8080/",
          "height": 298
        },
        "id": "xxFcTS59yDqf",
        "outputId": "f0cc9bbb-1458-40aa-b2b4-6faa335ecebf"
      },
      "source": [
        "print(test_labels[random_test_image])\r\n",
        "plt.imshow(test_images[random_test_image])"
      ],
      "execution_count": 23,
      "outputs": [
        {
          "output_type": "stream",
          "text": [
            "1\n"
          ],
          "name": "stdout"
        },
        {
          "output_type": "execute_result",
          "data": {
            "text/plain": [
              "<matplotlib.image.AxesImage at 0x7f4aa064f2b0>"
            ]
          },
          "metadata": {
            "tags": []
          },
          "execution_count": 23
        },
        {
          "output_type": "display_data",
          "data": {
            "image/png": "[encoded data removed]",
            "text/plain": [
              "<Figure size 432x288 with 1 Axes>"
            ]
          },
          "metadata": {
            "tags": [],
            "needs_background": "light"
          }
        }
      ]
    }
  ]
}