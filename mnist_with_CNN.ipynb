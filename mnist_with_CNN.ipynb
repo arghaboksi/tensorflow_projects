{
  "nbformat": 4,
  "nbformat_minor": 0,
  "metadata": {
    "colab": {
      "name": "mnist-with-CNN.ipynb",
      "provenance": [],
      "authorship_tag": "ABX9TyOKlfuzrhH2UuNm5PGZgHH3"
    },
    "kernelspec": {
      "name": "python3",
      "display_name": "Python 3"
    }
  },
  "cells": [
    {
      "cell_type": "code",
      "metadata": {
        "id": "2cxPylahpkJd"
      },
      "source": [
        "import tensorflow as tf\r\n",
        "from tensorflow import keras\r\n",
        "import numpy as np\r\n",
        "import matplotlib.pyplot as plt"
      ],
      "execution_count": 17,
      "outputs": []
    },
    {
      "cell_type": "code",
      "metadata": {
        "id": "lNiMQ21aqeyi"
      },
      "source": [
        "mnist = keras.datasets.mnist.load_data(path=\"mnist.npz\")"
      ],
      "execution_count": 18,
      "outputs": []
    },
    {
      "cell_type": "code",
      "metadata": {
        "id": "7I--M4YjrBo5"
      },
      "source": [
        "training_set = mnist[0]\r\n",
        "test_set = mnist[1]\r\n",
        "training_images = training_set[0]\r\n",
        "training_labels = training_set[1]\r\n",
        "test_images = test_set[0]\r\n",
        "test_labels = test_set[1]"
      ],
      "execution_count": 19,
      "outputs": []
    },
    {
      "cell_type": "code",
      "metadata": {
        "colab": {
          "base_uri": "https://localhost:8080/"
        },
        "id": "xZpB5GVrrFbc",
        "outputId": "36d82626-2f81-411e-94d4-abea78cb5f89"
      },
      "source": [
        "print(\"Training Images : \", np.shape(training_images))\r\n",
        "print(\"Training Labels : \", np.shape(training_labels))\r\n",
        "print(\"Test Images : \", np.shape(test_images))\r\n",
        "print(\"Test Labels : \", np.shape(test_labels))"
      ],
      "execution_count": 20,
      "outputs": [
        {
          "output_type": "stream",
          "text": [
            "Training Images :  (60000, 28, 28)\n",
            "Training Labels :  (60000,)\n",
            "Test Images :  (10000, 28, 28)\n",
            "Test Labels :  (10000,)\n"
          ],
          "name": "stdout"
        }
      ]
    },
    {
      "cell_type": "code",
      "metadata": {
        "colab": {
          "base_uri": "https://localhost:8080/",
          "height": 282
        },
        "id": "sP549w9GvTqr",
        "outputId": "affc5160-4f47-41b6-b8e4-1811a3b959de"
      },
      "source": [
        "plt.imshow(training_images[45])\r\n",
        "print(\"its a \", training_labels[45])"
      ],
      "execution_count": 22,
      "outputs": [
        {
          "output_type": "stream",
          "text": [
            "its a  9\n"
          ],
          "name": "stdout"
        },
        {
          "output_type": "display_data",
          "data": {
            "image/png": "[encoded data removed]",
            "text/plain": [
              "<Figure size 432x288 with 1 Axes>"
            ]
          },
          "metadata": {
            "tags": [],
            "needs_background": "light"
          }
        }
      ]
    },
    {
      "cell_type": "code",
      "metadata": {
        "colab": {
          "base_uri": "https://localhost:8080/",
          "height": 282
        },
        "id": "UA4M2LvKvw-m",
        "outputId": "4bbc51a4-0fa4-407e-d005-23076f874b58"
      },
      "source": [
        "plt.imshow(test_images[33])\r\n",
        "print(\"its a \", test_labels[33])"
      ],
      "execution_count": 23,
      "outputs": [
        {
          "output_type": "stream",
          "text": [
            "its a  4\n"
          ],
          "name": "stdout"
        },
        {
          "output_type": "display_data",
          "data": {
            "image/png": "[encoded data removed]",
            "text/plain": [
              "<Figure size 432x288 with 1 Axes>"
            ]
          },
          "metadata": {
            "tags": [],
            "needs_background": "light"
          }
        }
      ]
    },
    {
      "cell_type": "code",
      "metadata": {
        "id": "sIXWLYvdr5aA"
      },
      "source": [
        "#reshaping the input to the conv net\r\n",
        "training_images = np.reshape(training_images, (60000, 28, 28, 1))\r\n",
        "test_images = np.reshape(test_images, (10000, 28, 28, 1))"
      ],
      "execution_count": 24,
      "outputs": []
    },
    {
      "cell_type": "code",
      "metadata": {
        "colab": {
          "base_uri": "https://localhost:8080/"
        },
        "id": "E0pTfEkMr6Rr",
        "outputId": "060d05df-ad1a-437e-a739-446618ceba8d"
      },
      "source": [
        "print(np.shape(training_images))\r\n",
        "print(np.shape(test_images))"
      ],
      "execution_count": 25,
      "outputs": [
        {
          "output_type": "stream",
          "text": [
            "(60000, 28, 28, 1)\n",
            "(10000, 28, 28, 1)\n"
          ],
          "name": "stdout"
        }
      ]
    },
    {
      "cell_type": "code",
      "metadata": {
        "id": "8IbN4pChux3h"
      },
      "source": [
        "#normalizing the images\r\n",
        "training_images = training_images/255\r\n",
        "test_images = test_images/255"
      ],
      "execution_count": 26,
      "outputs": []
    },
    {
      "cell_type": "code",
      "metadata": {
        "id": "h91SCoJwv5hI"
      },
      "source": [
        "#model : conv->pool->Flatten->FC(with ReLU)->FC(with Softmax)\r\n",
        "model = keras.models.Sequential([\r\n",
        "                                 keras.layers.Conv2D(filters=64, kernel_size=(3,3), activation='relu', input_shape=(28,28,1)),\r\n",
        "                                 keras.layers.MaxPool2D(pool_size=(2,2), strides=2),\r\n",
        "                                 keras.layers.Flatten(),\r\n",
        "                                 keras.layers.Dense(128, activation='relu'),\r\n",
        "                                 keras.layers.Dense(10, activation='softmax')\r\n",
        "])"
      ],
      "execution_count": 27,
      "outputs": []
    },
    {
      "cell_type": "code",
      "metadata": {
        "colab": {
          "base_uri": "https://localhost:8080/"
        },
        "id": "ZUGfRs-VRSK5",
        "outputId": "1606e811-b536-4a1b-da4d-d2bf113829dd"
      },
      "source": [
        "model.summary()"
      ],
      "execution_count": 28,
      "outputs": [
        {
          "output_type": "stream",
          "text": [
            "Model: \"sequential\"\n",
            "_________________________________________________________________\n",
            "Layer (type)                 Output Shape              Param #   \n",
            "=================================================================\n",
            "conv2d (Conv2D)              (None, 26, 26, 64)        640       \n",
            "_________________________________________________________________\n",
            "max_pooling2d (MaxPooling2D) (None, 13, 13, 64)        0         \n",
            "_________________________________________________________________\n",
            "flatten (Flatten)            (None, 10816)             0         \n",
            "_________________________________________________________________\n",
            "dense (Dense)                (None, 128)               1384576   \n",
            "_________________________________________________________________\n",
            "dense_1 (Dense)              (None, 10)                1290      \n",
            "=================================================================\n",
            "Total params: 1,386,506\n",
            "Trainable params: 1,386,506\n",
            "Non-trainable params: 0\n",
            "_________________________________________________________________\n"
          ],
          "name": "stdout"
        }
      ]
    },
    {
      "cell_type": "code",
      "metadata": {
        "id": "3ApK5pQGRUVv"
      },
      "source": [
        "model.compile(optimizer='adam', loss='sparse_categorical_crossentropy', metrics=['accuracy'])"
      ],
      "execution_count": 29,
      "outputs": []
    },
    {
      "cell_type": "code",
      "metadata": {
        "id": "WPeOZH5WR6rH"
      },
      "source": [
        " class myCallback(tf.keras.callbacks.Callback):\r\n",
        "        def on_epoch_end(self, epoch, logs={}):\r\n",
        "            if(logs.get('accuracy')>0.998):\r\n",
        "                print(\"\\nReached 99.8% accuracy so cancelling training!\")\r\n",
        "                self.model.stop_training = True\r\n",
        "                \r\n",
        "callbacks = myCallback()"
      ],
      "execution_count": 33,
      "outputs": []
    },
    {
      "cell_type": "code",
      "metadata": {
        "colab": {
          "base_uri": "https://localhost:8080/"
        },
        "id": "RC75devRSJDU",
        "outputId": "c84cb44a-db44-4556-fc2b-64b31209891a"
      },
      "source": [
        "model.fit(training_images, training_labels, epochs=20, callbacks=[callbacks])"
      ],
      "execution_count": 34,
      "outputs": [
        {
          "output_type": "stream",
          "text": [
            "Epoch 1/20\n",
            "1875/1875 [==============================] - 45s 24ms/step - loss: 0.0306 - accuracy: 0.9904\n",
            "Epoch 2/20\n",
            "1875/1875 [==============================] - 44s 23ms/step - loss: 0.0195 - accuracy: 0.9938\n",
            "Epoch 3/20\n",
            "1875/1875 [==============================] - 45s 24ms/step - loss: 0.0138 - accuracy: 0.9956\n",
            "Epoch 4/20\n",
            "1875/1875 [==============================] - 44s 24ms/step - loss: 0.0085 - accuracy: 0.9973\n",
            "Epoch 5/20\n",
            "1875/1875 [==============================] - 44s 23ms/step - loss: 0.0073 - accuracy: 0.9975\n",
            "Epoch 6/20\n",
            "1875/1875 [==============================] - 44s 24ms/step - loss: 0.0063 - accuracy: 0.9980\n",
            "Epoch 7/20\n",
            "1875/1875 [==============================] - 44s 24ms/step - loss: 0.0040 - accuracy: 0.9986\n",
            "\n",
            "Reached 99.8% accuracy so cancelling training!\n"
          ],
          "name": "stdout"
        },
        {
          "output_type": "execute_result",
          "data": {
            "text/plain": [
              "<tensorflow.python.keras.callbacks.History at 0x7f2d09eec470>"
            ]
          },
          "metadata": {
            "tags": []
          },
          "execution_count": 34
        }
      ]
    },
    {
      "cell_type": "code",
      "metadata": {
        "colab": {
          "base_uri": "https://localhost:8080/"
        },
        "id": "8M6fcGLDSdQN",
        "outputId": "43734dd2-1a42-43d5-bf99-e7428a979abd"
      },
      "source": [
        "model.evaluate(test_images, test_labels)"
      ],
      "execution_count": 35,
      "outputs": [
        {
          "output_type": "stream",
          "text": [
            "313/313 [==============================] - 2s 8ms/step - loss: 0.0578 - accuracy: 0.9857\n"
          ],
          "name": "stdout"
        },
        {
          "output_type": "execute_result",
          "data": {
            "text/plain": [
              "[0.05780277028679848, 0.9857000112533569]"
            ]
          },
          "metadata": {
            "tags": []
          },
          "execution_count": 35
        }
      ]
    },
    {
      "cell_type": "code",
      "metadata": {
        "colab": {
          "base_uri": "https://localhost:8080/"
        },
        "id": "pm5J-DIIUm4s",
        "outputId": "a1981787-95e7-41e4-ebfd-ad4493e2b9b2"
      },
      "source": [
        "predictions = model.predict(test_images)\r\n",
        "print(np.shape(predictions))"
      ],
      "execution_count": 36,
      "outputs": [
        {
          "output_type": "stream",
          "text": [
            "(10000, 10)\n"
          ],
          "name": "stdout"
        }
      ]
    },
    {
      "cell_type": "code",
      "metadata": {
        "colab": {
          "base_uri": "https://localhost:8080/",
          "height": 315
        },
        "id": "o_JpsNoaVa1z",
        "outputId": "cceb039c-2e0b-413c-c692-96c7d3df77b9"
      },
      "source": [
        "plt.imshow(np.reshape(test_images[10], (28,28)))\r\n",
        "print(predictions[10])\r\n",
        "print(test_labels[10])"
      ],
      "execution_count": 40,
      "outputs": [
        {
          "output_type": "stream",
          "text": [
            "[1.0000000e+00 6.9187067e-19 1.9314961e-11 2.3153912e-19 1.3724021e-23\n",
            " 1.0599351e-13 6.9261051e-14 1.8356796e-14 9.0010178e-16 7.3664019e-11]\n",
            "0\n"
          ],
          "name": "stdout"
        },
        {
          "output_type": "display_data",
          "data": {
            "image/png": "[encoded data removed]",
            "text/plain": [
              "<Figure size 432x288 with 1 Axes>"
            ]
          },
          "metadata": {
            "tags": [],
            "needs_background": "light"
          }
        }
      ]
    }
  ]
}